{
 "cells": [
  {
   "cell_type": "code",
   "execution_count": 1,
   "metadata": {},
   "outputs": [
    {
     "name": "stdout",
     "output_type": "stream",
     "text": [
      "Using matplotlib backend: Qt5Agg\n"
     ]
    }
   ],
   "source": [
    "import ipywidgets as widgets\n",
    "from ipywidgets import interact, interact_manual\n",
    "import pandas as pd\n",
    "import numpy as np\n",
    "import matplotlib.pyplot as plt\n",
    "%matplotlib"
   ]
  },
  {
   "cell_type": "code",
   "execution_count": 2,
   "metadata": {},
   "outputs": [],
   "source": [
    "kospi_df = pd.read_pickle('KODEX_200.pkl')"
   ]
  },
  {
   "cell_type": "code",
   "execution_count": 3,
   "metadata": {
    "scrolled": true
   },
   "outputs": [
    {
     "data": {
      "text/html": [
       "<div>\n",
       "<style scoped>\n",
       "    .dataframe tbody tr th:only-of-type {\n",
       "        vertical-align: middle;\n",
       "    }\n",
       "\n",
       "    .dataframe tbody tr th {\n",
       "        vertical-align: top;\n",
       "    }\n",
       "\n",
       "    .dataframe thead th {\n",
       "        text-align: right;\n",
       "    }\n",
       "</style>\n",
       "<table border=\"1\" class=\"dataframe\">\n",
       "  <thead>\n",
       "    <tr style=\"text-align: right;\">\n",
       "      <th></th>\n",
       "      <th>close</th>\n",
       "      <th>high</th>\n",
       "      <th>low</th>\n",
       "      <th>open</th>\n",
       "      <th>volume</th>\n",
       "    </tr>\n",
       "    <tr>\n",
       "      <th>dt</th>\n",
       "      <th></th>\n",
       "      <th></th>\n",
       "      <th></th>\n",
       "      <th></th>\n",
       "      <th></th>\n",
       "    </tr>\n",
       "  </thead>\n",
       "  <tbody>\n",
       "    <tr>\n",
       "      <th>2012-01-20</th>\n",
       "      <td>23197.4</td>\n",
       "      <td>23264.1</td>\n",
       "      <td>22801.9</td>\n",
       "      <td>22833.0</td>\n",
       "      <td>5205309.500</td>\n",
       "    </tr>\n",
       "    <tr>\n",
       "      <th>2012-01-25</th>\n",
       "      <td>23277.4</td>\n",
       "      <td>23539.6</td>\n",
       "      <td>23161.9</td>\n",
       "      <td>23197.4</td>\n",
       "      <td>7721437.000</td>\n",
       "    </tr>\n",
       "    <tr>\n",
       "      <th>2012-01-26</th>\n",
       "      <td>23299.6</td>\n",
       "      <td>23428.5</td>\n",
       "      <td>23237.4</td>\n",
       "      <td>23428.5</td>\n",
       "      <td>2162210.500</td>\n",
       "    </tr>\n",
       "    <tr>\n",
       "      <th>2012-01-27</th>\n",
       "      <td>23335.2</td>\n",
       "      <td>23419.6</td>\n",
       "      <td>23206.3</td>\n",
       "      <td>23419.6</td>\n",
       "      <td>3456417.500</td>\n",
       "    </tr>\n",
       "    <tr>\n",
       "      <th>2012-01-30</th>\n",
       "      <td>23073.0</td>\n",
       "      <td>23308.5</td>\n",
       "      <td>23050.8</td>\n",
       "      <td>23241.9</td>\n",
       "      <td>2899746.250</td>\n",
       "    </tr>\n",
       "    <tr>\n",
       "      <th>2012-01-31</th>\n",
       "      <td>23197.4</td>\n",
       "      <td>23304.1</td>\n",
       "      <td>22993.0</td>\n",
       "      <td>23081.9</td>\n",
       "      <td>2002127.750</td>\n",
       "    </tr>\n",
       "    <tr>\n",
       "      <th>2012-02-01</th>\n",
       "      <td>23224.1</td>\n",
       "      <td>23393.0</td>\n",
       "      <td>23028.6</td>\n",
       "      <td>23135.2</td>\n",
       "      <td>1927536.875</td>\n",
       "    </tr>\n",
       "    <tr>\n",
       "      <th>2012-02-02</th>\n",
       "      <td>23486.3</td>\n",
       "      <td>23646.3</td>\n",
       "      <td>23455.2</td>\n",
       "      <td>23464.1</td>\n",
       "      <td>2625921.500</td>\n",
       "    </tr>\n",
       "    <tr>\n",
       "      <th>2012-02-03</th>\n",
       "      <td>23370.7</td>\n",
       "      <td>23512.9</td>\n",
       "      <td>23286.3</td>\n",
       "      <td>23486.3</td>\n",
       "      <td>2424590.250</td>\n",
       "    </tr>\n",
       "    <tr>\n",
       "      <th>2012-02-06</th>\n",
       "      <td>23401.8</td>\n",
       "      <td>23668.5</td>\n",
       "      <td>23326.3</td>\n",
       "      <td>23632.9</td>\n",
       "      <td>1893227.375</td>\n",
       "    </tr>\n",
       "    <tr>\n",
       "      <th>2012-02-07</th>\n",
       "      <td>23441.8</td>\n",
       "      <td>23539.6</td>\n",
       "      <td>23375.2</td>\n",
       "      <td>23437.4</td>\n",
       "      <td>3035667.500</td>\n",
       "    </tr>\n",
       "    <tr>\n",
       "      <th>2012-02-08</th>\n",
       "      <td>23708.5</td>\n",
       "      <td>23726.3</td>\n",
       "      <td>23473.0</td>\n",
       "      <td>23486.3</td>\n",
       "      <td>4026284.750</td>\n",
       "    </tr>\n",
       "    <tr>\n",
       "      <th>2012-02-09</th>\n",
       "      <td>23810.7</td>\n",
       "      <td>23810.7</td>\n",
       "      <td>23384.1</td>\n",
       "      <td>23708.5</td>\n",
       "      <td>4458510.000</td>\n",
       "    </tr>\n",
       "    <tr>\n",
       "      <th>2012-02-10</th>\n",
       "      <td>23548.5</td>\n",
       "      <td>23801.8</td>\n",
       "      <td>23464.1</td>\n",
       "      <td>23801.8</td>\n",
       "      <td>2593516.250</td>\n",
       "    </tr>\n",
       "    <tr>\n",
       "      <th>2012-02-13</th>\n",
       "      <td>23681.8</td>\n",
       "      <td>23792.9</td>\n",
       "      <td>23552.9</td>\n",
       "      <td>23575.2</td>\n",
       "      <td>2828806.250</td>\n",
       "    </tr>\n",
       "    <tr>\n",
       "      <th>2012-02-14</th>\n",
       "      <td>23659.6</td>\n",
       "      <td>23708.5</td>\n",
       "      <td>23566.3</td>\n",
       "      <td>23668.5</td>\n",
       "      <td>2477070.750</td>\n",
       "    </tr>\n",
       "    <tr>\n",
       "      <th>2012-02-15</th>\n",
       "      <td>23957.3</td>\n",
       "      <td>23984.0</td>\n",
       "      <td>23708.5</td>\n",
       "      <td>23708.5</td>\n",
       "      <td>3541640.750</td>\n",
       "    </tr>\n",
       "    <tr>\n",
       "      <th>2012-02-16</th>\n",
       "      <td>23641.8</td>\n",
       "      <td>23792.9</td>\n",
       "      <td>23624.0</td>\n",
       "      <td>23792.9</td>\n",
       "      <td>3741025.750</td>\n",
       "    </tr>\n",
       "    <tr>\n",
       "      <th>2012-02-17</th>\n",
       "      <td>23961.8</td>\n",
       "      <td>24050.7</td>\n",
       "      <td>23895.1</td>\n",
       "      <td>23917.3</td>\n",
       "      <td>3763672.000</td>\n",
       "    </tr>\n",
       "    <tr>\n",
       "      <th>2012-02-20</th>\n",
       "      <td>24028.4</td>\n",
       "      <td>24281.7</td>\n",
       "      <td>24015.1</td>\n",
       "      <td>24210.6</td>\n",
       "      <td>4038564.000</td>\n",
       "    </tr>\n",
       "    <tr>\n",
       "      <th>2012-02-21</th>\n",
       "      <td>24032.9</td>\n",
       "      <td>24099.5</td>\n",
       "      <td>23801.8</td>\n",
       "      <td>24015.1</td>\n",
       "      <td>1972092.000</td>\n",
       "    </tr>\n",
       "    <tr>\n",
       "      <th>2012-02-22</th>\n",
       "      <td>24032.9</td>\n",
       "      <td>24068.4</td>\n",
       "      <td>23872.9</td>\n",
       "      <td>24001.8</td>\n",
       "      <td>2034331.500</td>\n",
       "    </tr>\n",
       "    <tr>\n",
       "      <th>2012-02-23</th>\n",
       "      <td>23828.5</td>\n",
       "      <td>23912.9</td>\n",
       "      <td>23730.7</td>\n",
       "      <td>23819.6</td>\n",
       "      <td>1648760.000</td>\n",
       "    </tr>\n",
       "    <tr>\n",
       "      <th>2012-02-24</th>\n",
       "      <td>23930.7</td>\n",
       "      <td>23961.8</td>\n",
       "      <td>23690.7</td>\n",
       "      <td>23846.2</td>\n",
       "      <td>2308656.000</td>\n",
       "    </tr>\n",
       "    <tr>\n",
       "      <th>2012-02-27</th>\n",
       "      <td>23615.2</td>\n",
       "      <td>23908.5</td>\n",
       "      <td>23557.4</td>\n",
       "      <td>23908.5</td>\n",
       "      <td>2779918.000</td>\n",
       "    </tr>\n",
       "    <tr>\n",
       "      <th>2012-02-28</th>\n",
       "      <td>23797.4</td>\n",
       "      <td>23819.6</td>\n",
       "      <td>23655.2</td>\n",
       "      <td>23721.8</td>\n",
       "      <td>3465254.250</td>\n",
       "    </tr>\n",
       "    <tr>\n",
       "      <th>2012-02-29</th>\n",
       "      <td>24059.6</td>\n",
       "      <td>24121.8</td>\n",
       "      <td>23890.7</td>\n",
       "      <td>23890.7</td>\n",
       "      <td>3561843.500</td>\n",
       "    </tr>\n",
       "    <tr>\n",
       "      <th>2012-03-02</th>\n",
       "      <td>24090.7</td>\n",
       "      <td>24255.1</td>\n",
       "      <td>24077.3</td>\n",
       "      <td>24144.0</td>\n",
       "      <td>2823545.500</td>\n",
       "    </tr>\n",
       "    <tr>\n",
       "      <th>2012-03-05</th>\n",
       "      <td>23868.5</td>\n",
       "      <td>24108.4</td>\n",
       "      <td>23806.2</td>\n",
       "      <td>24090.7</td>\n",
       "      <td>2586210.000</td>\n",
       "    </tr>\n",
       "    <tr>\n",
       "      <th>2012-03-06</th>\n",
       "      <td>23659.6</td>\n",
       "      <td>23961.8</td>\n",
       "      <td>23535.2</td>\n",
       "      <td>23868.5</td>\n",
       "      <td>5620026.500</td>\n",
       "    </tr>\n",
       "    <tr>\n",
       "      <th>...</th>\n",
       "      <td>...</td>\n",
       "      <td>...</td>\n",
       "      <td>...</td>\n",
       "      <td>...</td>\n",
       "      <td>...</td>\n",
       "    </tr>\n",
       "    <tr>\n",
       "      <th>2019-06-12</th>\n",
       "      <td>27240.0</td>\n",
       "      <td>27430.0</td>\n",
       "      <td>27215.0</td>\n",
       "      <td>27330.0</td>\n",
       "      <td>2282293.000</td>\n",
       "    </tr>\n",
       "    <tr>\n",
       "      <th>2019-06-13</th>\n",
       "      <td>27015.0</td>\n",
       "      <td>27265.0</td>\n",
       "      <td>26830.0</td>\n",
       "      <td>27140.0</td>\n",
       "      <td>3673966.000</td>\n",
       "    </tr>\n",
       "    <tr>\n",
       "      <th>2019-06-14</th>\n",
       "      <td>27010.0</td>\n",
       "      <td>27160.0</td>\n",
       "      <td>26870.0</td>\n",
       "      <td>27015.0</td>\n",
       "      <td>4062405.000</td>\n",
       "    </tr>\n",
       "    <tr>\n",
       "      <th>2019-06-17</th>\n",
       "      <td>27025.0</td>\n",
       "      <td>27160.0</td>\n",
       "      <td>26925.0</td>\n",
       "      <td>26985.0</td>\n",
       "      <td>1864640.000</td>\n",
       "    </tr>\n",
       "    <tr>\n",
       "      <th>2019-06-18</th>\n",
       "      <td>27160.0</td>\n",
       "      <td>27200.0</td>\n",
       "      <td>26985.0</td>\n",
       "      <td>27005.0</td>\n",
       "      <td>2449326.000</td>\n",
       "    </tr>\n",
       "    <tr>\n",
       "      <th>2019-06-19</th>\n",
       "      <td>27500.0</td>\n",
       "      <td>27565.0</td>\n",
       "      <td>27415.0</td>\n",
       "      <td>27465.0</td>\n",
       "      <td>2175868.000</td>\n",
       "    </tr>\n",
       "    <tr>\n",
       "      <th>2019-06-20</th>\n",
       "      <td>27595.0</td>\n",
       "      <td>27610.0</td>\n",
       "      <td>27455.0</td>\n",
       "      <td>27510.0</td>\n",
       "      <td>1982638.000</td>\n",
       "    </tr>\n",
       "    <tr>\n",
       "      <th>2019-06-21</th>\n",
       "      <td>27520.0</td>\n",
       "      <td>27630.0</td>\n",
       "      <td>27465.0</td>\n",
       "      <td>27610.0</td>\n",
       "      <td>3139660.000</td>\n",
       "    </tr>\n",
       "    <tr>\n",
       "      <th>2019-06-24</th>\n",
       "      <td>27565.0</td>\n",
       "      <td>27680.0</td>\n",
       "      <td>27530.0</td>\n",
       "      <td>27545.0</td>\n",
       "      <td>2504417.000</td>\n",
       "    </tr>\n",
       "    <tr>\n",
       "      <th>2019-06-25</th>\n",
       "      <td>27525.0</td>\n",
       "      <td>27705.0</td>\n",
       "      <td>27415.0</td>\n",
       "      <td>27540.0</td>\n",
       "      <td>4001192.000</td>\n",
       "    </tr>\n",
       "    <tr>\n",
       "      <th>2019-06-26</th>\n",
       "      <td>27555.0</td>\n",
       "      <td>27625.0</td>\n",
       "      <td>27470.0</td>\n",
       "      <td>27490.0</td>\n",
       "      <td>2783629.000</td>\n",
       "    </tr>\n",
       "    <tr>\n",
       "      <th>2019-06-27</th>\n",
       "      <td>27890.0</td>\n",
       "      <td>27940.0</td>\n",
       "      <td>27580.0</td>\n",
       "      <td>27635.0</td>\n",
       "      <td>3440841.000</td>\n",
       "    </tr>\n",
       "    <tr>\n",
       "      <th>2019-06-28</th>\n",
       "      <td>27820.0</td>\n",
       "      <td>27935.0</td>\n",
       "      <td>27755.0</td>\n",
       "      <td>27890.0</td>\n",
       "      <td>3021259.000</td>\n",
       "    </tr>\n",
       "    <tr>\n",
       "      <th>2019-07-01</th>\n",
       "      <td>27825.0</td>\n",
       "      <td>28100.0</td>\n",
       "      <td>27785.0</td>\n",
       "      <td>28030.0</td>\n",
       "      <td>3672448.000</td>\n",
       "    </tr>\n",
       "    <tr>\n",
       "      <th>2019-07-02</th>\n",
       "      <td>27670.0</td>\n",
       "      <td>27830.0</td>\n",
       "      <td>27550.0</td>\n",
       "      <td>27705.0</td>\n",
       "      <td>3291579.000</td>\n",
       "    </tr>\n",
       "    <tr>\n",
       "      <th>2019-07-03</th>\n",
       "      <td>27315.0</td>\n",
       "      <td>27740.0</td>\n",
       "      <td>27275.0</td>\n",
       "      <td>27650.0</td>\n",
       "      <td>3108862.000</td>\n",
       "    </tr>\n",
       "    <tr>\n",
       "      <th>2019-07-04</th>\n",
       "      <td>27545.0</td>\n",
       "      <td>27550.0</td>\n",
       "      <td>27285.0</td>\n",
       "      <td>27345.0</td>\n",
       "      <td>2845028.000</td>\n",
       "    </tr>\n",
       "    <tr>\n",
       "      <th>2019-07-05</th>\n",
       "      <td>27505.0</td>\n",
       "      <td>27605.0</td>\n",
       "      <td>27335.0</td>\n",
       "      <td>27550.0</td>\n",
       "      <td>2125460.000</td>\n",
       "    </tr>\n",
       "    <tr>\n",
       "      <th>2019-07-08</th>\n",
       "      <td>26930.0</td>\n",
       "      <td>27305.0</td>\n",
       "      <td>26925.0</td>\n",
       "      <td>27305.0</td>\n",
       "      <td>3605902.000</td>\n",
       "    </tr>\n",
       "    <tr>\n",
       "      <th>2019-07-09</th>\n",
       "      <td>26875.0</td>\n",
       "      <td>27105.0</td>\n",
       "      <td>26875.0</td>\n",
       "      <td>27010.0</td>\n",
       "      <td>2841774.000</td>\n",
       "    </tr>\n",
       "    <tr>\n",
       "      <th>2019-07-10</th>\n",
       "      <td>26975.0</td>\n",
       "      <td>27110.0</td>\n",
       "      <td>26970.0</td>\n",
       "      <td>26975.0</td>\n",
       "      <td>2417819.000</td>\n",
       "    </tr>\n",
       "    <tr>\n",
       "      <th>2019-07-11</th>\n",
       "      <td>27305.0</td>\n",
       "      <td>27390.0</td>\n",
       "      <td>27105.0</td>\n",
       "      <td>27135.0</td>\n",
       "      <td>2866357.000</td>\n",
       "    </tr>\n",
       "    <tr>\n",
       "      <th>2019-07-12</th>\n",
       "      <td>27365.0</td>\n",
       "      <td>27405.0</td>\n",
       "      <td>27215.0</td>\n",
       "      <td>27265.0</td>\n",
       "      <td>1783836.000</td>\n",
       "    </tr>\n",
       "    <tr>\n",
       "      <th>2019-07-15</th>\n",
       "      <td>27350.0</td>\n",
       "      <td>27415.0</td>\n",
       "      <td>27185.0</td>\n",
       "      <td>27275.0</td>\n",
       "      <td>1294897.000</td>\n",
       "    </tr>\n",
       "    <tr>\n",
       "      <th>2019-07-16</th>\n",
       "      <td>27470.0</td>\n",
       "      <td>27535.0</td>\n",
       "      <td>27310.0</td>\n",
       "      <td>27385.0</td>\n",
       "      <td>2344902.000</td>\n",
       "    </tr>\n",
       "    <tr>\n",
       "      <th>2019-07-17</th>\n",
       "      <td>27225.0</td>\n",
       "      <td>27340.0</td>\n",
       "      <td>27130.0</td>\n",
       "      <td>27310.0</td>\n",
       "      <td>1886297.000</td>\n",
       "    </tr>\n",
       "    <tr>\n",
       "      <th>2019-07-18</th>\n",
       "      <td>27165.0</td>\n",
       "      <td>27260.0</td>\n",
       "      <td>27065.0</td>\n",
       "      <td>27180.0</td>\n",
       "      <td>2290347.000</td>\n",
       "    </tr>\n",
       "    <tr>\n",
       "      <th>2019-07-19</th>\n",
       "      <td>27545.0</td>\n",
       "      <td>27610.0</td>\n",
       "      <td>27315.0</td>\n",
       "      <td>27315.0</td>\n",
       "      <td>2532920.000</td>\n",
       "    </tr>\n",
       "    <tr>\n",
       "      <th>2019-07-22</th>\n",
       "      <td>27535.0</td>\n",
       "      <td>27620.0</td>\n",
       "      <td>27435.0</td>\n",
       "      <td>27470.0</td>\n",
       "      <td>1797628.000</td>\n",
       "    </tr>\n",
       "    <tr>\n",
       "      <th>2019-07-23</th>\n",
       "      <td>27670.0</td>\n",
       "      <td>27755.0</td>\n",
       "      <td>27555.0</td>\n",
       "      <td>27600.0</td>\n",
       "      <td>2450359.000</td>\n",
       "    </tr>\n",
       "  </tbody>\n",
       "</table>\n",
       "<p>1845 rows × 5 columns</p>\n",
       "</div>"
      ],
      "text/plain": [
       "              close     high      low     open       volume\n",
       "dt                                                         \n",
       "2012-01-20  23197.4  23264.1  22801.9  22833.0  5205309.500\n",
       "2012-01-25  23277.4  23539.6  23161.9  23197.4  7721437.000\n",
       "2012-01-26  23299.6  23428.5  23237.4  23428.5  2162210.500\n",
       "2012-01-27  23335.2  23419.6  23206.3  23419.6  3456417.500\n",
       "2012-01-30  23073.0  23308.5  23050.8  23241.9  2899746.250\n",
       "2012-01-31  23197.4  23304.1  22993.0  23081.9  2002127.750\n",
       "2012-02-01  23224.1  23393.0  23028.6  23135.2  1927536.875\n",
       "2012-02-02  23486.3  23646.3  23455.2  23464.1  2625921.500\n",
       "2012-02-03  23370.7  23512.9  23286.3  23486.3  2424590.250\n",
       "2012-02-06  23401.8  23668.5  23326.3  23632.9  1893227.375\n",
       "2012-02-07  23441.8  23539.6  23375.2  23437.4  3035667.500\n",
       "2012-02-08  23708.5  23726.3  23473.0  23486.3  4026284.750\n",
       "2012-02-09  23810.7  23810.7  23384.1  23708.5  4458510.000\n",
       "2012-02-10  23548.5  23801.8  23464.1  23801.8  2593516.250\n",
       "2012-02-13  23681.8  23792.9  23552.9  23575.2  2828806.250\n",
       "2012-02-14  23659.6  23708.5  23566.3  23668.5  2477070.750\n",
       "2012-02-15  23957.3  23984.0  23708.5  23708.5  3541640.750\n",
       "2012-02-16  23641.8  23792.9  23624.0  23792.9  3741025.750\n",
       "2012-02-17  23961.8  24050.7  23895.1  23917.3  3763672.000\n",
       "2012-02-20  24028.4  24281.7  24015.1  24210.6  4038564.000\n",
       "2012-02-21  24032.9  24099.5  23801.8  24015.1  1972092.000\n",
       "2012-02-22  24032.9  24068.4  23872.9  24001.8  2034331.500\n",
       "2012-02-23  23828.5  23912.9  23730.7  23819.6  1648760.000\n",
       "2012-02-24  23930.7  23961.8  23690.7  23846.2  2308656.000\n",
       "2012-02-27  23615.2  23908.5  23557.4  23908.5  2779918.000\n",
       "2012-02-28  23797.4  23819.6  23655.2  23721.8  3465254.250\n",
       "2012-02-29  24059.6  24121.8  23890.7  23890.7  3561843.500\n",
       "2012-03-02  24090.7  24255.1  24077.3  24144.0  2823545.500\n",
       "2012-03-05  23868.5  24108.4  23806.2  24090.7  2586210.000\n",
       "2012-03-06  23659.6  23961.8  23535.2  23868.5  5620026.500\n",
       "...             ...      ...      ...      ...          ...\n",
       "2019-06-12  27240.0  27430.0  27215.0  27330.0  2282293.000\n",
       "2019-06-13  27015.0  27265.0  26830.0  27140.0  3673966.000\n",
       "2019-06-14  27010.0  27160.0  26870.0  27015.0  4062405.000\n",
       "2019-06-17  27025.0  27160.0  26925.0  26985.0  1864640.000\n",
       "2019-06-18  27160.0  27200.0  26985.0  27005.0  2449326.000\n",
       "2019-06-19  27500.0  27565.0  27415.0  27465.0  2175868.000\n",
       "2019-06-20  27595.0  27610.0  27455.0  27510.0  1982638.000\n",
       "2019-06-21  27520.0  27630.0  27465.0  27610.0  3139660.000\n",
       "2019-06-24  27565.0  27680.0  27530.0  27545.0  2504417.000\n",
       "2019-06-25  27525.0  27705.0  27415.0  27540.0  4001192.000\n",
       "2019-06-26  27555.0  27625.0  27470.0  27490.0  2783629.000\n",
       "2019-06-27  27890.0  27940.0  27580.0  27635.0  3440841.000\n",
       "2019-06-28  27820.0  27935.0  27755.0  27890.0  3021259.000\n",
       "2019-07-01  27825.0  28100.0  27785.0  28030.0  3672448.000\n",
       "2019-07-02  27670.0  27830.0  27550.0  27705.0  3291579.000\n",
       "2019-07-03  27315.0  27740.0  27275.0  27650.0  3108862.000\n",
       "2019-07-04  27545.0  27550.0  27285.0  27345.0  2845028.000\n",
       "2019-07-05  27505.0  27605.0  27335.0  27550.0  2125460.000\n",
       "2019-07-08  26930.0  27305.0  26925.0  27305.0  3605902.000\n",
       "2019-07-09  26875.0  27105.0  26875.0  27010.0  2841774.000\n",
       "2019-07-10  26975.0  27110.0  26970.0  26975.0  2417819.000\n",
       "2019-07-11  27305.0  27390.0  27105.0  27135.0  2866357.000\n",
       "2019-07-12  27365.0  27405.0  27215.0  27265.0  1783836.000\n",
       "2019-07-15  27350.0  27415.0  27185.0  27275.0  1294897.000\n",
       "2019-07-16  27470.0  27535.0  27310.0  27385.0  2344902.000\n",
       "2019-07-17  27225.0  27340.0  27130.0  27310.0  1886297.000\n",
       "2019-07-18  27165.0  27260.0  27065.0  27180.0  2290347.000\n",
       "2019-07-19  27545.0  27610.0  27315.0  27315.0  2532920.000\n",
       "2019-07-22  27535.0  27620.0  27435.0  27470.0  1797628.000\n",
       "2019-07-23  27670.0  27755.0  27555.0  27600.0  2450359.000\n",
       "\n",
       "[1845 rows x 5 columns]"
      ]
     },
     "execution_count": 3,
     "metadata": {},
     "output_type": "execute_result"
    }
   ],
   "source": [
    "kospi_df"
   ]
  },
  {
   "cell_type": "code",
   "execution_count": 4,
   "metadata": {},
   "outputs": [
    {
     "data": {
      "text/plain": [
       "DatetimeIndex(['2012-01-20', '2012-01-25', '2012-01-26', '2012-01-27',\n",
       "               '2012-01-30', '2012-01-31', '2012-02-01', '2012-02-02',\n",
       "               '2012-02-03', '2012-02-06',\n",
       "               ...\n",
       "               '2019-07-10', '2019-07-11', '2019-07-12', '2019-07-15',\n",
       "               '2019-07-16', '2019-07-17', '2019-07-18', '2019-07-19',\n",
       "               '2019-07-22', '2019-07-23'],\n",
       "              dtype='datetime64[ns]', name='dt', length=1845, freq=None)"
      ]
     },
     "execution_count": 4,
     "metadata": {},
     "output_type": "execute_result"
    }
   ],
   "source": [
    "kospi_df.index"
   ]
  },
  {
   "cell_type": "code",
   "execution_count": 5,
   "metadata": {},
   "outputs": [
    {
     "data": {
      "text/plain": [
       "Index(['close', 'high', 'low', 'open', 'volume'], dtype='object')"
      ]
     },
     "execution_count": 5,
     "metadata": {},
     "output_type": "execute_result"
    }
   ],
   "source": [
    "kospi_df.columns"
   ]
  },
  {
   "cell_type": "code",
   "execution_count": 6,
   "metadata": {},
   "outputs": [],
   "source": [
    "kospi_df?"
   ]
  },
  {
   "cell_type": "code",
   "execution_count": 7,
   "metadata": {},
   "outputs": [],
   "source": [
    "# 로그 수익률을 사용하는 이유\n",
    "# 복리로 수익률이 누적될 경우 (1+r1)(1+r2)...와 같이 곱셈을 계속 해주어야함 \n",
    "# But 로그를 취해주면 곱셈이 덧셈으로 바뀌기 때문에 계산이 편리\n",
    "# 로그수익률 = ln(나중 주가/처음 주가)"
   ]
  },
  {
   "cell_type": "code",
   "execution_count": 8,
   "metadata": {},
   "outputs": [],
   "source": [
    "ktb_df = pd.read_pickle('KODEX_10Y_KTB.pkl')"
   ]
  },
  {
   "cell_type": "code",
   "execution_count": 9,
   "metadata": {},
   "outputs": [
    {
     "data": {
      "text/html": [
       "<div>\n",
       "<style scoped>\n",
       "    .dataframe tbody tr th:only-of-type {\n",
       "        vertical-align: middle;\n",
       "    }\n",
       "\n",
       "    .dataframe tbody tr th {\n",
       "        vertical-align: top;\n",
       "    }\n",
       "\n",
       "    .dataframe thead th {\n",
       "        text-align: right;\n",
       "    }\n",
       "</style>\n",
       "<table border=\"1\" class=\"dataframe\">\n",
       "  <thead>\n",
       "    <tr style=\"text-align: right;\">\n",
       "      <th></th>\n",
       "      <th>kospi_close</th>\n",
       "      <th>ktb_close</th>\n",
       "    </tr>\n",
       "    <tr>\n",
       "      <th>dt</th>\n",
       "      <th></th>\n",
       "      <th></th>\n",
       "    </tr>\n",
       "  </thead>\n",
       "  <tbody>\n",
       "    <tr>\n",
       "      <th>2012-01-20</th>\n",
       "      <td>23197.4</td>\n",
       "      <td>49960.0</td>\n",
       "    </tr>\n",
       "    <tr>\n",
       "      <th>2012-01-25</th>\n",
       "      <td>23277.4</td>\n",
       "      <td>49960.0</td>\n",
       "    </tr>\n",
       "    <tr>\n",
       "      <th>2012-01-26</th>\n",
       "      <td>23299.6</td>\n",
       "      <td>49930.0</td>\n",
       "    </tr>\n",
       "    <tr>\n",
       "      <th>2012-01-27</th>\n",
       "      <td>23335.2</td>\n",
       "      <td>50000.0</td>\n",
       "    </tr>\n",
       "    <tr>\n",
       "      <th>2012-01-30</th>\n",
       "      <td>23073.0</td>\n",
       "      <td>50130.0</td>\n",
       "    </tr>\n",
       "  </tbody>\n",
       "</table>\n",
       "</div>"
      ],
      "text/plain": [
       "            kospi_close  ktb_close\n",
       "dt                                \n",
       "2012-01-20      23197.4    49960.0\n",
       "2012-01-25      23277.4    49960.0\n",
       "2012-01-26      23299.6    49930.0\n",
       "2012-01-27      23335.2    50000.0\n",
       "2012-01-30      23073.0    50130.0"
      ]
     },
     "execution_count": 9,
     "metadata": {},
     "output_type": "execute_result"
    }
   ],
   "source": [
    "close_df = pd.DataFrame({'kospi_close':kospi_df['close'], \n",
    "                         'ktb_close': ktb_df['close']}) \n",
    "\n",
    "close_df.head()"
   ]
  },
  {
   "cell_type": "code",
   "execution_count": 10,
   "metadata": {},
   "outputs": [
    {
     "data": {
      "text/html": [
       "<div>\n",
       "<style scoped>\n",
       "    .dataframe tbody tr th:only-of-type {\n",
       "        vertical-align: middle;\n",
       "    }\n",
       "\n",
       "    .dataframe tbody tr th {\n",
       "        vertical-align: top;\n",
       "    }\n",
       "\n",
       "    .dataframe thead th {\n",
       "        text-align: right;\n",
       "    }\n",
       "</style>\n",
       "<table border=\"1\" class=\"dataframe\">\n",
       "  <thead>\n",
       "    <tr style=\"text-align: right;\">\n",
       "      <th></th>\n",
       "      <th>kospi_close</th>\n",
       "      <th>ktb_close</th>\n",
       "    </tr>\n",
       "    <tr>\n",
       "      <th>dt</th>\n",
       "      <th></th>\n",
       "      <th></th>\n",
       "    </tr>\n",
       "  </thead>\n",
       "  <tbody>\n",
       "    <tr>\n",
       "      <th>2012-01-20</th>\n",
       "      <td>NaN</td>\n",
       "      <td>NaN</td>\n",
       "    </tr>\n",
       "    <tr>\n",
       "      <th>2012-01-25</th>\n",
       "      <td>23197.4</td>\n",
       "      <td>49960.0</td>\n",
       "    </tr>\n",
       "    <tr>\n",
       "      <th>2012-01-26</th>\n",
       "      <td>23277.4</td>\n",
       "      <td>49960.0</td>\n",
       "    </tr>\n",
       "    <tr>\n",
       "      <th>2012-01-27</th>\n",
       "      <td>23299.6</td>\n",
       "      <td>49930.0</td>\n",
       "    </tr>\n",
       "    <tr>\n",
       "      <th>2012-01-30</th>\n",
       "      <td>23335.2</td>\n",
       "      <td>50000.0</td>\n",
       "    </tr>\n",
       "  </tbody>\n",
       "</table>\n",
       "</div>"
      ],
      "text/plain": [
       "            kospi_close  ktb_close\n",
       "dt                                \n",
       "2012-01-20          NaN        NaN\n",
       "2012-01-25      23197.4    49960.0\n",
       "2012-01-26      23277.4    49960.0\n",
       "2012-01-27      23299.6    49930.0\n",
       "2012-01-30      23335.2    50000.0"
      ]
     },
     "execution_count": 10,
     "metadata": {},
     "output_type": "execute_result"
    }
   ],
   "source": [
    "close_df.shift(1).head()\n",
    "# shift 메소드는 한칸씩 내리는 것을 말함"
   ]
  },
  {
   "cell_type": "code",
   "execution_count": 11,
   "metadata": {},
   "outputs": [
    {
     "data": {
      "text/html": [
       "<div>\n",
       "<style scoped>\n",
       "    .dataframe tbody tr th:only-of-type {\n",
       "        vertical-align: middle;\n",
       "    }\n",
       "\n",
       "    .dataframe tbody tr th {\n",
       "        vertical-align: top;\n",
       "    }\n",
       "\n",
       "    .dataframe thead th {\n",
       "        text-align: right;\n",
       "    }\n",
       "</style>\n",
       "<table border=\"1\" class=\"dataframe\">\n",
       "  <thead>\n",
       "    <tr style=\"text-align: right;\">\n",
       "      <th></th>\n",
       "      <th>kospi_close</th>\n",
       "      <th>ktb_close</th>\n",
       "    </tr>\n",
       "    <tr>\n",
       "      <th>dt</th>\n",
       "      <th></th>\n",
       "      <th></th>\n",
       "    </tr>\n",
       "  </thead>\n",
       "  <tbody>\n",
       "    <tr>\n",
       "      <th>2012-01-20</th>\n",
       "      <td>NaN</td>\n",
       "      <td>NaN</td>\n",
       "    </tr>\n",
       "    <tr>\n",
       "      <th>2012-01-25</th>\n",
       "      <td>0.003443</td>\n",
       "      <td>0.000000</td>\n",
       "    </tr>\n",
       "    <tr>\n",
       "      <th>2012-01-26</th>\n",
       "      <td>0.000953</td>\n",
       "      <td>-0.000601</td>\n",
       "    </tr>\n",
       "    <tr>\n",
       "      <th>2012-01-27</th>\n",
       "      <td>0.001527</td>\n",
       "      <td>0.001401</td>\n",
       "    </tr>\n",
       "    <tr>\n",
       "      <th>2012-01-30</th>\n",
       "      <td>-0.011300</td>\n",
       "      <td>0.002597</td>\n",
       "    </tr>\n",
       "  </tbody>\n",
       "</table>\n",
       "</div>"
      ],
      "text/plain": [
       "            kospi_close  ktb_close\n",
       "dt                                \n",
       "2012-01-20          NaN        NaN\n",
       "2012-01-25     0.003443   0.000000\n",
       "2012-01-26     0.000953  -0.000601\n",
       "2012-01-27     0.001527   0.001401\n",
       "2012-01-30    -0.011300   0.002597"
      ]
     },
     "execution_count": 11,
     "metadata": {},
     "output_type": "execute_result"
    }
   ],
   "source": [
    "logr_df = np.log(close_df/close_df.shift(1))\n",
    "logr_df.head()"
   ]
  },
  {
   "cell_type": "code",
   "execution_count": 12,
   "metadata": {},
   "outputs": [
    {
     "data": {
      "text/html": [
       "<div>\n",
       "<style scoped>\n",
       "    .dataframe tbody tr th:only-of-type {\n",
       "        vertical-align: middle;\n",
       "    }\n",
       "\n",
       "    .dataframe tbody tr th {\n",
       "        vertical-align: top;\n",
       "    }\n",
       "\n",
       "    .dataframe thead th {\n",
       "        text-align: right;\n",
       "    }\n",
       "</style>\n",
       "<table border=\"1\" class=\"dataframe\">\n",
       "  <thead>\n",
       "    <tr style=\"text-align: right;\">\n",
       "      <th></th>\n",
       "      <th>kospi_close</th>\n",
       "      <th>ktb_close</th>\n",
       "    </tr>\n",
       "    <tr>\n",
       "      <th>dt</th>\n",
       "      <th></th>\n",
       "      <th></th>\n",
       "    </tr>\n",
       "  </thead>\n",
       "  <tbody>\n",
       "    <tr>\n",
       "      <th>2019-07-17</th>\n",
       "      <td>-0.008959</td>\n",
       "      <td>0.002179</td>\n",
       "    </tr>\n",
       "    <tr>\n",
       "      <th>2019-07-18</th>\n",
       "      <td>-0.002206</td>\n",
       "      <td>0.006369</td>\n",
       "    </tr>\n",
       "    <tr>\n",
       "      <th>2019-07-19</th>\n",
       "      <td>0.013892</td>\n",
       "      <td>0.001464</td>\n",
       "    </tr>\n",
       "    <tr>\n",
       "      <th>2019-07-22</th>\n",
       "      <td>-0.000363</td>\n",
       "      <td>-0.001185</td>\n",
       "    </tr>\n",
       "    <tr>\n",
       "      <th>2019-07-23</th>\n",
       "      <td>0.004891</td>\n",
       "      <td>-0.000140</td>\n",
       "    </tr>\n",
       "  </tbody>\n",
       "</table>\n",
       "</div>"
      ],
      "text/plain": [
       "            kospi_close  ktb_close\n",
       "dt                                \n",
       "2019-07-17    -0.008959   0.002179\n",
       "2019-07-18    -0.002206   0.006369\n",
       "2019-07-19     0.013892   0.001464\n",
       "2019-07-22    -0.000363  -0.001185\n",
       "2019-07-23     0.004891  -0.000140"
      ]
     },
     "execution_count": 12,
     "metadata": {},
     "output_type": "execute_result"
    }
   ],
   "source": [
    "logr_df.tail()"
   ]
  },
  {
   "cell_type": "code",
   "execution_count": 13,
   "metadata": {},
   "outputs": [
    {
     "data": {
      "text/plain": [
       "kospi_close    0.000096\n",
       "ktb_close      0.000196\n",
       "dtype: float64"
      ]
     },
     "execution_count": 13,
     "metadata": {},
     "output_type": "execute_result"
    }
   ],
   "source": [
    "mu = logr_df.mean()\n",
    "mu"
   ]
  },
  {
   "cell_type": "code",
   "execution_count": 14,
   "metadata": {},
   "outputs": [
    {
     "data": {
      "text/plain": [
       "kospi_close    0.024094\n",
       "ktb_close      0.049323\n",
       "dtype: float64"
      ]
     },
     "execution_count": 14,
     "metadata": {},
     "output_type": "execute_result"
    }
   ],
   "source": [
    "# 1년간 거래일이 252일이라 가정\n",
    "mu = logr_df.mean() * 252 \n",
    "mu\n",
    "# >>> KOSPI(주식자산)은 1년에 평균적으로 2.4%의 로그 수익률이 나올 것이다.\n",
    "# >>> KTB(채권자산)은 1년에 평균적으로 4.9%의 로그 수익률이 나올 것이다."
   ]
  },
  {
   "cell_type": "code",
   "execution_count": 15,
   "metadata": {},
   "outputs": [
    {
     "data": {
      "text/plain": [
       "array([0.02409423, 0.04932303])"
      ]
     },
     "execution_count": 15,
     "metadata": {},
     "output_type": "execute_result"
    }
   ],
   "source": [
    "# mu를 계산하기 편하게 벡터 형태로 변환\n",
    "mu = mu.values\n",
    "mu"
   ]
  },
  {
   "cell_type": "code",
   "execution_count": 16,
   "metadata": {},
   "outputs": [],
   "source": [
    "# 비중에 따른 가중치 부여\n",
    "# 채권과 주식의 투자 비중을 50 : 50으로 정한 경우\n",
    "w = np.array([0.5, 0.5])"
   ]
  },
  {
   "cell_type": "code",
   "execution_count": 17,
   "metadata": {},
   "outputs": [
    {
     "data": {
      "text/plain": [
       "0.036708632064765455"
      ]
     },
     "execution_count": 17,
     "metadata": {},
     "output_type": "execute_result"
    }
   ],
   "source": [
    "# dot()함수는 같은 크기의 두 벡터의 스칼라 곱을 반환해준다.\n",
    "port_return = mu.dot(w)\n",
    "port_return"
   ]
  },
  {
   "cell_type": "markdown",
   "metadata": {},
   "source": [
    "# 자산별 Risk 계산하기"
   ]
  },
  {
   "cell_type": "code",
   "execution_count": 18,
   "metadata": {},
   "outputs": [
    {
     "data": {
      "text/plain": [
       "kospi_close    0.008127\n",
       "ktb_close      0.002763\n",
       "dtype: float64"
      ]
     },
     "execution_count": 18,
     "metadata": {},
     "output_type": "execute_result"
    }
   ],
   "source": [
    "logr_df.std()"
   ]
  },
  {
   "cell_type": "code",
   "execution_count": 19,
   "metadata": {},
   "outputs": [
    {
     "data": {
      "text/plain": [
       "kospi_close    0.129017\n",
       "ktb_close      0.043854\n",
       "dtype: float64"
      ]
     },
     "execution_count": 19,
     "metadata": {},
     "output_type": "execute_result"
    }
   ],
   "source": [
    "logr_df.std()*np.sqrt(252)"
   ]
  },
  {
   "cell_type": "markdown",
   "metadata": {},
   "source": [
    "# 포트폴리오 Risk 계산하기"
   ]
  },
  {
   "cell_type": "code",
   "execution_count": 20,
   "metadata": {},
   "outputs": [
    {
     "data": {
      "text/html": [
       "<div>\n",
       "<style scoped>\n",
       "    .dataframe tbody tr th:only-of-type {\n",
       "        vertical-align: middle;\n",
       "    }\n",
       "\n",
       "    .dataframe tbody tr th {\n",
       "        vertical-align: top;\n",
       "    }\n",
       "\n",
       "    .dataframe thead th {\n",
       "        text-align: right;\n",
       "    }\n",
       "</style>\n",
       "<table border=\"1\" class=\"dataframe\">\n",
       "  <thead>\n",
       "    <tr style=\"text-align: right;\">\n",
       "      <th></th>\n",
       "      <th>kospi_close</th>\n",
       "      <th>ktb_close</th>\n",
       "    </tr>\n",
       "  </thead>\n",
       "  <tbody>\n",
       "    <tr>\n",
       "      <th>kospi_close</th>\n",
       "      <td>0.000066</td>\n",
       "      <td>-0.000003</td>\n",
       "    </tr>\n",
       "    <tr>\n",
       "      <th>ktb_close</th>\n",
       "      <td>-0.000003</td>\n",
       "      <td>0.000008</td>\n",
       "    </tr>\n",
       "  </tbody>\n",
       "</table>\n",
       "</div>"
      ],
      "text/plain": [
       "             kospi_close  ktb_close\n",
       "kospi_close     0.000066  -0.000003\n",
       "ktb_close      -0.000003   0.000008"
      ]
     },
     "execution_count": 20,
     "metadata": {},
     "output_type": "execute_result"
    }
   ],
   "source": [
    "logr_df.cov()"
   ]
  },
  {
   "cell_type": "code",
   "execution_count": 21,
   "metadata": {},
   "outputs": [
    {
     "data": {
      "text/plain": [
       "array([[ 0.01664541, -0.00068849],\n",
       "       [-0.00068849,  0.00192319]])"
      ]
     },
     "execution_count": 21,
     "metadata": {},
     "output_type": "execute_result"
    }
   ],
   "source": [
    "# cov_mat : 공분산 행렬(Covariance Matrix) \n",
    "cov_mat = logr_df.cov() * 252 \n",
    "cov_mat = cov_mat.values # values 메소드를 통해 벡터(행렬구조)로 저장\n",
    "cov_mat"
   ]
  },
  {
   "cell_type": "code",
   "execution_count": 22,
   "metadata": {},
   "outputs": [
    {
     "name": "stdout",
     "output_type": "stream",
     "text": [
      "Portfolio Risk:  0.06555841690797026\n"
     ]
    }
   ],
   "source": [
    "# 포트폴리오의 Risk(=표준편차)를 계산합니다. \n",
    "port_var = np.dot(np.dot(w, cov_mat), w.T) \n",
    "# >>> w C w ^ T  ※ T는 전치행렬을 만들어주는 메소드\n",
    "port_std = np.sqrt(port_var) \n",
    "print(\"Portfolio Risk: \", port_std)"
   ]
  },
  {
   "cell_type": "code",
   "execution_count": 23,
   "metadata": {},
   "outputs": [
    {
     "data": {
      "text/plain": [
       "0.024094232523761493"
      ]
     },
     "execution_count": 23,
     "metadata": {},
     "output_type": "execute_result"
    }
   ],
   "source": [
    "# 주식의 기대수익률\n",
    "mu[0]"
   ]
  },
  {
   "cell_type": "code",
   "execution_count": 24,
   "metadata": {},
   "outputs": [
    {
     "data": {
      "text/plain": [
       "0.04932303160576942"
      ]
     },
     "execution_count": 24,
     "metadata": {},
     "output_type": "execute_result"
    }
   ],
   "source": [
    "# 채권의 기대수익률\n",
    "mu[1]"
   ]
  },
  {
   "cell_type": "code",
   "execution_count": 25,
   "metadata": {},
   "outputs": [
    {
     "data": {
      "text/plain": [
       "0.1290171056894523"
      ]
     },
     "execution_count": 25,
     "metadata": {},
     "output_type": "execute_result"
    }
   ],
   "source": [
    "# 주식의 Risk\n",
    "np.sqrt(cov_mat[0][0])"
   ]
  },
  {
   "cell_type": "code",
   "execution_count": 26,
   "metadata": {},
   "outputs": [
    {
     "data": {
      "text/plain": [
       "0.043854220726545816"
      ]
     },
     "execution_count": 26,
     "metadata": {},
     "output_type": "execute_result"
    }
   ],
   "source": [
    "# 채권의 Risk\n",
    "np.sqrt(cov_mat[1][1])"
   ]
  },
  {
   "cell_type": "code",
   "execution_count": 30,
   "metadata": {},
   "outputs": [
    {
     "data": {
      "text/plain": [
       "<matplotlib.legend.Legend at 0x239fc88d160>"
      ]
     },
     "execution_count": 30,
     "metadata": {},
     "output_type": "execute_result"
    },
    {
     "data": {
      "image/png": "[encoded data removed]",
      "text/plain": [
       "<Figure size 432x288 with 1 Axes>"
      ]
     },
     "metadata": {
      "needs_background": "light"
     },
     "output_type": "display_data"
    }
   ],
   "source": [
    "plt.figure() \n",
    "\n",
    "# 주식\n",
    "\n",
    "plt.plot(np.sqrt(cov_mat[0][0]),mu[0], marker='s', color='#1F77B4', markeredgewidth=1, markersize=10, label='KOSPI'); \n",
    "\n",
    "# 채권\n",
    "\n",
    "plt.plot(np.sqrt(cov_mat[1][1]),mu[1], marker='s', color='#FF7F0E', markeredgewidth=1, markersize=10, label='KTB_ETF'); \n",
    "\n",
    "# 포트폴리오\n",
    "\n",
    "plt.plot(port_std, port_return, marker='x', color='#2CA02C', markeredgewidth=2, markersize=10, label='Portfolio') \n",
    "plt.plot(0,0) \n",
    "plt.title('Risk-Return Plane') \n",
    "plt.xlabel('Risk') \n",
    "plt.ylabel('Return') \n",
    "plt.legend()"
   ]
  }
 ],
 "metadata": {
  "kernelspec": {
   "display_name": "Python 3",
   "language": "python",
   "name": "python3"
  },
  "language_info": {
   "codemirror_mode": {
    "name": "ipython",
    "version": 3
   },
   "file_extension": ".py",
   "mimetype": "text/x-python",
   "name": "python",
   "nbconvert_exporter": "python",
   "pygments_lexer": "ipython3",
   "version": "3.7.3"
  }
 },
 "nbformat": 4,
 "nbformat_minor": 2
}
