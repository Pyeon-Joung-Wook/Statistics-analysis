{
 "cells": [
  {
   "cell_type": "code",
   "execution_count": 4,
   "metadata": {},
   "outputs": [],
   "source": [
    "import xlrd\n",
    "# xlrd는 엑셀에 있는 데이터를 파이썬으로 가져오는 것과 관련된 많은 기능을 가지고 있는 모듈"
   ]
  },
  {
   "cell_type": "code",
   "execution_count": 6,
   "metadata": {},
   "outputs": [],
   "source": [
    "file_path = 'C:/Users/elris/Dropbox/Data Scientist/Python/엑셀 데이터/주식 책 데이터/마법공식 데이터.xlsx'\n",
    "wb = xlrd.open_workbook(file_path)"
   ]
  },
  {
   "cell_type": "code",
   "execution_count": 7,
   "metadata": {},
   "outputs": [],
   "source": [
    "# PER 시트와 연결하기\n",
    "per_sh = wb.sheet_by_name('PER')"
   ]
  },
  {
   "cell_type": "code",
   "execution_count": 9,
   "metadata": {},
   "outputs": [
    {
     "name": "stdout",
     "output_type": "stream",
     "text": [
      "['3S', -11.87]\n",
      "['AJ네트웍스', 25.15]\n",
      "['AJ렌터카', 24.85]\n"
     ]
    }
   ],
   "source": [
    "print(per_sh.row_values(1))\n",
    "print(per_sh.row_values(2))\n",
    "print(per_sh.row_values(3))"
   ]
  },
  {
   "cell_type": "code",
   "execution_count": 13,
   "metadata": {},
   "outputs": [],
   "source": [
    "per_dict = {}\n",
    "for i in range(1, per_sh.nrows) : \n",
    "    data = per_sh.row_values(i)\n",
    "    name = data[0]\n",
    "    per = data[1]\n",
    "    if per > 0 :\n",
    "        per_dict[name] = per"
   ]
  },
  {
   "cell_type": "code",
   "execution_count": 23,
   "metadata": {},
   "outputs": [
    {
     "data": {
      "text/plain": [
       "list"
      ]
     },
     "execution_count": 23,
     "metadata": {},
     "output_type": "execute_result"
    }
   ],
   "source": [
    "import operator\n",
    "\n",
    "\n",
    "sorted_per = sorted(per_dict.items(), key = operator.itemgetter(1))\n",
    "# .items()를 통해 키와 값 둘 다 정렬할 것을 말해주고, 그중 정렬 대상을 key에서 두 쌍 중에 2번째(1)로 하겠다는 뜻\n",
    "type(sorted_per)"
   ]
  },
  {
   "cell_type": "code",
   "execution_count": 25,
   "metadata": {},
   "outputs": [],
   "source": [
    "per_rank = {}\n",
    "\n",
    "for num,firm in enumerate(sorted_per) : \n",
    "    per_rank[firm[0]] = num + 1"
   ]
  },
  {
   "cell_type": "code",
   "execution_count": 26,
   "metadata": {},
   "outputs": [
    {
     "data": {
      "text/plain": [
       "278"
      ]
     },
     "execution_count": 26,
     "metadata": {},
     "output_type": "execute_result"
    }
   ],
   "source": [
    "per_rank['삼성전자']"
   ]
  },
  {
   "cell_type": "code",
   "execution_count": 27,
   "metadata": {},
   "outputs": [],
   "source": [
    "# ROA 시트와 연결하기\n",
    "roa_sh = wb.sheet_by_name('ROA')"
   ]
  },
  {
   "cell_type": "code",
   "execution_count": 29,
   "metadata": {},
   "outputs": [],
   "source": [
    "roa_dict = {}\n",
    "for i in range(1, roa_sh.nrows) : \n",
    "    data = roa_sh.row_values(i)\n",
    "    name = data[0]\n",
    "    roa = data[1]\n",
    "    if roa != \"\" :\n",
    "        roa_dict[name] = roa"
   ]
  },
  {
   "cell_type": "code",
   "execution_count": 33,
   "metadata": {},
   "outputs": [],
   "source": [
    "sorted_roa = sorted(roa_dict.items(), key = operator.itemgetter(1), reverse = True)\n",
    "# PER의 경우 오름차순 정렬이나 ROA의 경우 내림차순 정렬이므로 reverse 옵션 추가"
   ]
  },
  {
   "cell_type": "code",
   "execution_count": 34,
   "metadata": {},
   "outputs": [],
   "source": [
    "roa_rank = {}\n",
    "\n",
    "for num,firm in enumerate(sorted_roa) : \n",
    "    roa_rank[firm[0]] = num + 1"
   ]
  },
  {
   "cell_type": "code",
   "execution_count": 35,
   "metadata": {},
   "outputs": [
    {
     "data": {
      "text/plain": [
       "382"
      ]
     },
     "execution_count": 35,
     "metadata": {},
     "output_type": "execute_result"
    }
   ],
   "source": [
    "roa_rank['삼성전자']"
   ]
  },
  {
   "cell_type": "code",
   "execution_count": 36,
   "metadata": {},
   "outputs": [],
   "source": [
    "total_rank = {}\n",
    "\n",
    "for name in roa_rank.keys() : \n",
    "    if name in per_rank.keys() : \n",
    "        total_rank[name] = per_rank[name] + roa_rank[name]"
   ]
  },
  {
   "cell_type": "code",
   "execution_count": 37,
   "metadata": {},
   "outputs": [
    {
     "data": {
      "text/plain": [
       "660"
      ]
     },
     "execution_count": 37,
     "metadata": {},
     "output_type": "execute_result"
    }
   ],
   "source": [
    "total_rank['삼성전자']"
   ]
  },
  {
   "cell_type": "code",
   "execution_count": 48,
   "metadata": {},
   "outputs": [],
   "source": [
    "sorted_total = sorted(total_rank.items(),key = operator.itemgetter(1))\n",
    "list_total = list(sorted_total)\n",
    "top30_total = list_total[0:30]\n",
    "top30_total = dict(top30_total)\n",
    "magic_rank = {}\n",
    "\n",
    "for num, firm in enumerate(top30_total) : \n",
    "    magic_rank[firm] = num + 1"
   ]
  },
  {
   "cell_type": "code",
   "execution_count": 51,
   "metadata": {},
   "outputs": [
    {
     "data": {
      "text/plain": [
       "{'서한': 1,\n",
       " '골프존': 2,\n",
       " '동원개발': 3,\n",
       " '오가닉티코스메틱': 4,\n",
       " '모베이스': 5,\n",
       " '테라세미콘': 6,\n",
       " '제이스텍': 7,\n",
       " '삼목에스폼': 8,\n",
       " '영우디에스피': 9,\n",
       " 'HB테크놀러지': 10,\n",
       " '로스웰': 11,\n",
       " '한국자산신탁': 12,\n",
       " '크리스탈신소재': 13,\n",
       " '롯데케미칼': 14,\n",
       " '한국토지신탁': 15,\n",
       " '서호전기': 16,\n",
       " '대원산업': 17,\n",
       " '아이에스동서': 18,\n",
       " '에스에이엠티': 19,\n",
       " '대양금속': 20,\n",
       " '차이나하오란': 21,\n",
       " '완리': 22,\n",
       " 'DMS': 23,\n",
       " '삼호': 24,\n",
       " '슈피겐코리아': 25,\n",
       " '삼양통상': 26,\n",
       " '현대통신': 27,\n",
       " '화성산업': 28,\n",
       " '넥센': 29,\n",
       " '한창제지': 30}"
      ]
     },
     "execution_count": 51,
     "metadata": {},
     "output_type": "execute_result"
    }
   ],
   "source": [
    "magic_rank"
   ]
  },
  {
   "cell_type": "code",
   "execution_count": null,
   "metadata": {},
   "outputs": [],
   "source": []
  }
 ],
 "metadata": {
  "kernelspec": {
   "display_name": "Python 3",
   "language": "python",
   "name": "python3"
  },
  "language_info": {
   "codemirror_mode": {
    "name": "ipython",
    "version": 3
   },
   "file_extension": ".py",
   "mimetype": "text/x-python",
   "name": "python",
   "nbconvert_exporter": "python",
   "pygments_lexer": "ipython3",
   "version": "3.7.3"
  }
 },
 "nbformat": 4,
 "nbformat_minor": 2
}
